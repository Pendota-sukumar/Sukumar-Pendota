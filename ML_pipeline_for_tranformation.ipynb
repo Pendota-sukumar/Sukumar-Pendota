{
  "nbformat": 4,
  "nbformat_minor": 0,
  "metadata": {
    "colab": {
      "provenance": [],
      "mount_file_id": "1JcCcniBVoNNGa5d9VF2JLYzwWPIsPuDI",
      "authorship_tag": "ABX9TyOz6vF+6+9olRTre2FAG5vr",
      "include_colab_link": true
    },
    "kernelspec": {
      "name": "python3",
      "display_name": "Python 3"
    },
    "language_info": {
      "name": "python"
    }
  },
  "cells": [
    {
      "cell_type": "markdown",
      "metadata": {
        "id": "view-in-github",
        "colab_type": "text"
      },
      "source": [
        "<a href=\"https://colab.research.google.com/github/Pendota-sukumar/Sukumar-Pendota/blob/main/ML_pipeline_for_tranformation.ipynb\" target=\"_parent\"><img src=\"https://colab.research.google.com/assets/colab-badge.svg\" alt=\"Open In Colab\"/></a>"
      ]
    },
    {
      "cell_type": "markdown",
      "source": [
        " Import Required Libraries"
      ],
      "metadata": {
        "id": "_jVsRyaGjJzr"
      }
    },
    {
      "cell_type": "code",
      "execution_count": 2,
      "metadata": {
        "id": "bdK-fO7NimJh"
      },
      "outputs": [],
      "source": [
        "import pandas as pd\n",
        "import numpy as np\n",
        "from sklearn.model_selection import train_test_split\n",
        "from sklearn.preprocessing import StandardScaler\n",
        "from sklearn.ensemble import RandomForestClassifier\n",
        "from sklearn.metrics import accuracy_score\n",
        "import os"
      ]
    },
    {
      "cell_type": "markdown",
      "source": [
        "**Define File Paths\n",
        "Source File: Path of your input CSV file\n",
        "\n",
        "Target Folder: Path where the transformed CSV file should be saved**"
      ],
      "metadata": {
        "id": "lraUJHhUjWCw"
      }
    },
    {
      "cell_type": "code",
      "source": [
        "source_file = \"/content/drive/MyDrive/Colab Notebooks/Source Data/Big data.csv\"  # Update with your actual file path\n",
        "target_file = \"/content/drive/MyDrive/Colab Notebooks/Target Data\"  # This file does not exist initially\n",
        "target_file = os.path.join(target_file, \"final_transformed_data.csv\")  # Define output file name\n"
      ],
      "metadata": {
        "id": "J4ceBSjdjaGx"
      },
      "execution_count": 6,
      "outputs": []
    },
    {
      "cell_type": "markdown",
      "source": [
        "**Ensure Target Folder Exists**"
      ],
      "metadata": {
        "id": "2afGln3EkkQH"
      }
    },
    {
      "cell_type": "code",
      "source": [
        "if not os.path.exists(target_file):\n",
        "    os.makedirs(target_file)\n",
        "    print(f\"Target folder created: {target_file}\")\n",
        "else:\n",
        "    print(f\"Target folder exists: {target_file}\")\n"
      ],
      "metadata": {
        "colab": {
          "base_uri": "https://localhost:8080/"
        },
        "id": "bEA3UJBek0mK",
        "outputId": "ca3ad8f3-9a21-4b7a-9cda-362653959e05"
      },
      "execution_count": 7,
      "outputs": [
        {
          "output_type": "stream",
          "name": "stdout",
          "text": [
            "Target folder created: /content/drive/MyDrive/Colab Notebooks/Target Data/final_transformed_data.csv\n"
          ]
        }
      ]
    },
    {
      "cell_type": "markdown",
      "source": [
        "## Load Data from Google Drive"
      ],
      "metadata": {
        "id": "5NrAGw_jlXZU"
      }
    },
    {
      "cell_type": "code",
      "source": [
        "df = pd.read_csv(source_file)\n",
        "print(\"Data Loaded Successfully!\")\n",
        "print(df.head())  # Display first few rows\n"
      ],
      "metadata": {
        "colab": {
          "base_uri": "https://localhost:8080/"
        },
        "id": "Bj0DLI_qlcGF",
        "outputId": "8deb7b49-ea1b-448e-a549-d0d044045bcd"
      },
      "execution_count": 8,
      "outputs": [
        {
          "output_type": "stream",
          "name": "stdout",
          "text": [
            "Data Loaded Successfully!\n",
            "    Order ID Order Date   Ship Date Qtr  Aging            c    Ship Mode  \\\n",
            "0  AU-2015-1  11/9/2015  11/17/2015  Q4      8  first class  First Class   \n",
            "1  AU-2015-2  6/30/2015    7/2/2015  Q2      2  first class  First Class   \n",
            "2  AU-2015-3  12/5/2015  12/13/2015  Q4      8  first class  First Class   \n",
            "3  AU-2015-4   5/9/2015   5/16/2015  Q2      7  first class  First Class   \n",
            "4  AU-2015-5   7/9/2015   7/18/2015  Q3      9  first class  First Class   \n",
            "\n",
            "     Product Category  Quantity            Product  ...  Shipping Cost  \\\n",
            "0  Auto & Accessories         1  Car Media Players  ...          $4.6    \n",
            "1  Auto & Accessories         1       Car Speakers  ...         $11.2    \n",
            "2  Auto & Accessories         5    Car Body Covers  ...          $3.1    \n",
            "3  Auto & Accessories         4    Car & Bike Care  ...          $2.6    \n",
            "4  Auto & Accessories         5               Tyre  ...         $16.0    \n",
            "\n",
            "   Order Priority Customer ID    Customer Name      Segment        City  \\\n",
            "0          Medium      LS-001     Lane Daniels     Consumer    Brisbane   \n",
            "1          Medium      IZ-002    Alvarado Kriz  Home Office      Berlin   \n",
            "2        Critical      EN-003       Moon Weien     Consumer     Porirua   \n",
            "3            High      AN-004  Sanchez Bergman    Corporate       Kabul   \n",
            "4        Critical      ON-005     Rowe Jackson    Corporate  Townsville   \n",
            "\n",
            "        State      Country        Region Months  \n",
            "0  Queensland    Australia       Oceania    Nov  \n",
            "1      Berlin      Germany       Central    Jun  \n",
            "2  Wellington  New Zealand       Oceania    Dec  \n",
            "3       Kabul  Afghanistan  Central Asia    May  \n",
            "4  Queensland    Australia       Oceania    Jul  \n",
            "\n",
            "[5 rows x 23 columns]\n"
          ]
        }
      ]
    },
    {
      "cell_type": "markdown",
      "source": [
        "# Transform Data as per Business Logic"
      ],
      "metadata": {
        "id": "x_RVzz7zlfzY"
      }
    },
    {
      "cell_type": "code",
      "source": [
        "# Fill missing values only in numerical columns\n",
        "numeric_cols = df.select_dtypes(include=['number']).columns  # Select only numeric columns\n",
        "df[numeric_cols] = df[numeric_cols].fillna(df[numeric_cols].mean())\n",
        "\n",
        "print(\"Missing values in numeric columns filled with mean!\")\n"
      ],
      "metadata": {
        "colab": {
          "base_uri": "https://localhost:8080/"
        },
        "id": "WK1mSaFSljRz",
        "outputId": "4d5d1960-2146-4ed6-a65c-ea4a510f2e8f"
      },
      "execution_count": 10,
      "outputs": [
        {
          "output_type": "stream",
          "name": "stdout",
          "text": [
            "Missing values in numeric columns filled with mean!\n"
          ]
        }
      ]
    },
    {
      "cell_type": "markdown",
      "source": [],
      "metadata": {
        "id": "euLJqouDnhh8"
      }
    },
    {
      "cell_type": "code",
      "source": [
        "# Encode categorical variables (if any)\n",
        "df = pd.get_dummies(df, drop_first=True)\n",
        "\n",
        "# Normalize numerical columns\n",
        "scaler = StandardScaler()\n",
        "df[df.select_dtypes(include=['float64', 'int64']).columns] = scaler.fit_transform(df.select_dtypes(include=['float64', 'int64']))\n",
        "\n",
        "print(\"Data Transformation Completed!\")\n",
        "print(df.head())"
      ],
      "metadata": {
        "colab": {
          "base_uri": "https://localhost:8080/"
        },
        "id": "I37GIg0inqlj",
        "outputId": "5e7734c6-7bbb-4359-9bf7-108e56d30859"
      },
      "execution_count": 11,
      "outputs": [
        {
          "output_type": "stream",
          "name": "stdout",
          "text": [
            "Data Transformation Completed!\n",
            "      Aging  Quantity  Discount  Order ID_AU-2015-10  Order ID_AU-2015-100  \\\n",
            "0  0.927390 -1.416429  1.419082                False                 False   \n",
            "1 -1.099722 -1.416429  0.002044                False                 False   \n",
            "2  0.927390  1.408443 -1.414993                False                 False   \n",
            "3  0.589538  0.702225  1.419082                False                 False   \n",
            "4  1.265242  1.408443  0.710563                False                 False   \n",
            "\n",
            "   Order ID_AU-2015-1000  Order ID_AU-2015-1001  Order ID_AU-2015-1002  \\\n",
            "0                  False                  False                  False   \n",
            "1                  False                  False                  False   \n",
            "2                  False                  False                  False   \n",
            "3                  False                  False                  False   \n",
            "4                  False                  False                  False   \n",
            "\n",
            "   Order ID_AU-2015-1003  Order ID_AU-2015-1004  ...  Months_Dec  Months_Feb  \\\n",
            "0                  False                  False  ...       False       False   \n",
            "1                  False                  False  ...       False       False   \n",
            "2                  False                  False  ...        True       False   \n",
            "3                  False                  False  ...       False       False   \n",
            "4                  False                  False  ...       False       False   \n",
            "\n",
            "   Months_Jan  Months_Jul  Months_Jun  Months_Mar  Months_May  Months_Nov  \\\n",
            "0       False       False       False       False       False        True   \n",
            "1       False       False        True       False       False       False   \n",
            "2       False       False       False       False       False       False   \n",
            "3       False       False       False       False        True       False   \n",
            "4       False        True       False       False       False       False   \n",
            "\n",
            "   Months_Oct  Months_Sep  \n",
            "0       False       False  \n",
            "1       False       False  \n",
            "2       False       False  \n",
            "3       False       False  \n",
            "4       False       False  \n",
            "\n",
            "[5 rows x 109649 columns]\n"
          ]
        }
      ]
    },
    {
      "cell_type": "markdown",
      "source": [
        "**Save Transformed Data as a CSV File in the Target Folder**"
      ],
      "metadata": {
        "id": "8g-OIDfRnyXf"
      }
    },
    {
      "cell_type": "code",
      "source": [
        "\n",
        "# Define target folder and file path\n",
        "target_folder = \"/content/drive/MyDrive/Colab Notebooks/Target Data/\"\n",
        "target_file = os.path.join(target_folder, \"final_transformed_data.csv\")  # Automatically create this file\n"
      ],
      "metadata": {
        "id": "1SSC89yHnvTJ"
      },
      "execution_count": 15,
      "outputs": []
    },
    {
      "cell_type": "code",
      "source": [
        "\n",
        "# Ensure target folder exists\n",
        "if not os.path.exists(target_folder):\n",
        "    os.makedirs(target_folder)\n",
        "    print(f\"📂 Target folder created: {target_folder}\")\n",
        "else:\n",
        "    print(f\"📂 Target folder already exists: {target_folder}\")\n"
      ],
      "metadata": {
        "colab": {
          "base_uri": "https://localhost:8080/"
        },
        "id": "D23HH0Y7o47-",
        "outputId": "f74ec06b-efbb-4411-eb21-d41a94e35152"
      },
      "execution_count": 16,
      "outputs": [
        {
          "output_type": "stream",
          "name": "stdout",
          "text": [
            "📂 Target folder already exists: /content/drive/MyDrive/Colab Notebooks/Target Data/\n"
          ]
        }
      ]
    },
    {
      "cell_type": "code",
      "source": [
        "from google.colab import drive\n",
        "drive.flush_and_unmount()  # Forces sync\n",
        "drive.mount('/content/drive')\n"
      ],
      "metadata": {
        "colab": {
          "base_uri": "https://localhost:8080/"
        },
        "id": "xf6SWWalo8Xq",
        "outputId": "29e4506c-0a73-43ae-9ad9-a252da016aca"
      },
      "execution_count": 18,
      "outputs": [
        {
          "output_type": "stream",
          "name": "stdout",
          "text": [
            "Mounted at /content/drive\n"
          ]
        }
      ]
    },
    {
      "cell_type": "code",
      "source": [
        "!ls \"/content/drive/MyDrive/Colab Notebooks/Target Data/\"\n"
      ],
      "metadata": {
        "colab": {
          "base_uri": "https://localhost:8080/"
        },
        "id": "Y9DaJsQNpYBS",
        "outputId": "fec85c9d-2752-4682-8ad1-6f63f14a78ef"
      },
      "execution_count": 19,
      "outputs": [
        {
          "output_type": "stream",
          "name": "stdout",
          "text": [
            " final_transformed_data.csv\t\t\t\t    _SUCCESS\n",
            " part-00000-389ff18a-8326-4199-b466-644fe273c39c-c000.csv  'Transformed financial_data.csv'\n",
            " part-00001-389ff18a-8326-4199-b466-644fe273c39c-c000.csv   Updated_Transformed_financial_data.csv\n"
          ]
        }
      ]
    },
    {
      "cell_type": "markdown",
      "source": [
        "**Since Data Saved In multiple CSV File making as one CSV File**"
      ],
      "metadata": {
        "id": "JU0Caf_ZpopJ"
      }
    },
    {
      "cell_type": "code",
      "source": [
        "from pyspark.sql import SparkSession\n",
        "\n",
        "# Initialize Spark session\n",
        "spark = SparkSession.builder.appName(\"SaveCSV\").getOrCreate()\n",
        "\n",
        "# Load data\n",
        "df = spark.read.csv(source_file, header=True, inferSchema=True)\n",
        "\n",
        "# Define target folder\n",
        "target_folder = \"/content/drive/MyDrive/Colab Notebooks/Target Data/\"\n",
        "\n",
        "# Save as a single CSV file (overwrite mode)\n",
        "df.coalesce(1).write.mode(\"overwrite\").option(\"header\", \"true\").csv(target_folder)\n",
        "\n",
        "print(f\"✅ Transformed data saved successfully at: {target_folder}\")\n"
      ],
      "metadata": {
        "colab": {
          "base_uri": "https://localhost:8080/"
        },
        "id": "vvuxAmO0pvR1",
        "outputId": "fc889c05-ff5e-426a-b68b-284e7470dbaf"
      },
      "execution_count": 28,
      "outputs": [
        {
          "output_type": "stream",
          "name": "stdout",
          "text": [
            "✅ Transformed data saved successfully at: /content/drive/MyDrive/Colab Notebooks/Target Data/\n"
          ]
        }
      ]
    },
    {
      "cell_type": "code",
      "source": [
        "import os\n",
        "import shutil\n",
        "\n",
        "# Define the target folder\n",
        "target_folder = \"/content/drive/MyDrive/Colab Notebooks/Target Data/\"\n",
        "\n",
        "# Find the newly created part file\n",
        "for file in os.listdir(target_folder):\n",
        "    if file.startswith(\"part-\") and file.endswith(\".csv\"):  # Find part files\n",
        "        part_file = os.path.join(target_folder, file)\n",
        "        final_file = os.path.join(target_folder, \"final_transformed_data.csv\")\n",
        "\n",
        "        # Rename the part file\n",
        "        shutil.move(part_file, final_file)\n",
        "        print(f\"✅ File renamed to: {final_file}\")\n",
        "        break  # Stop after renaming the first part file\n",
        "\n",
        "# Remove _SUCCESS file (optional)\n",
        "success_file = os.path.join(target_folder, \"_SUCCESS\")\n",
        "if os.path.exists(success_file):\n",
        "    os.remove(success_file)\n",
        "    print(\"🗑️ Removed _SUCCESS file.\")\n"
      ],
      "metadata": {
        "id": "B7luhlKKwCJl",
        "outputId": "7ba7e660-e201-48e2-967b-01251ee6d4c4",
        "colab": {
          "base_uri": "https://localhost:8080/"
        }
      },
      "execution_count": 29,
      "outputs": [
        {
          "output_type": "stream",
          "name": "stdout",
          "text": [
            "✅ File renamed to: /content/drive/MyDrive/Colab Notebooks/Target Data/final_transformed_data.csv\n",
            "🗑️ Removed _SUCCESS file.\n"
          ]
        }
      ]
    },
    {
      "cell_type": "markdown",
      "source": [
        "**Basic ML Pipeline For My Output Data**"
      ],
      "metadata": {
        "id": "Cw_alxbWwaGf"
      }
    },
    {
      "cell_type": "code",
      "source": [
        "import pandas as pd\n",
        "import numpy as np\n",
        "from sklearn.model_selection import train_test_split\n",
        "from sklearn.preprocessing import StandardScaler\n",
        "from sklearn.ensemble import RandomForestClassifier\n",
        "from sklearn.metrics import accuracy_score, classification_report"
      ],
      "metadata": {
        "id": "tZncdlRYwFdc"
      },
      "execution_count": 4,
      "outputs": []
    },
    {
      "cell_type": "code",
      "source": [
        "# Load the transformed data\n",
        "file_path = \"/content/drive/MyDrive/Colab Notebooks/Target Data/final_transformed_data.csv\"\n",
        "df = pd.read_csv(file_path)"
      ],
      "metadata": {
        "id": "SwTF9FQtwji0"
      },
      "execution_count": 5,
      "outputs": []
    },
    {
      "cell_type": "markdown",
      "source": [
        "**ML Operations**"
      ],
      "metadata": {
        "id": "RYLcDhBowtFE"
      }
    },
    {
      "cell_type": "code",
      "source": [
        "# Select relevant numerical features\n",
        "selected_features = [\"Aging\", \"Quantity\", \"Discount\"]  # Add more relevant columns\n",
        "\n",
        "# Extract input data (X)\n",
        "X = df[selected_features]\n"
      ],
      "metadata": {
        "id": "-Kbynm-BwnEH"
      },
      "execution_count": 6,
      "outputs": []
    },
    {
      "cell_type": "code",
      "source": [
        "print(df.columns)\n"
      ],
      "metadata": {
        "id": "BD9BPFPvxOz7",
        "outputId": "97a98ae9-15dc-4158-c64e-16e904da14e0",
        "colab": {
          "base_uri": "https://localhost:8080/"
        }
      },
      "execution_count": 7,
      "outputs": [
        {
          "output_type": "stream",
          "name": "stdout",
          "text": [
            "Index(['Order ID', 'Order Date', 'Ship Date', 'Qtr', 'Aging', 'c', 'Ship Mode',\n",
            "       'Product Category', 'Quantity', 'Product', 'Sales', 'Discount',\n",
            "       'Profit', 'Shipping Cost', 'Order Priority', 'Customer ID',\n",
            "       'Customer Name', 'Segment', 'City', 'State', 'Country', 'Region',\n",
            "       'Months'],\n",
            "      dtype='object')\n"
          ]
        }
      ]
    },
    {
      "cell_type": "markdown",
      "source": [
        " Supervised Learning (Regression & Classification)"
      ],
      "metadata": {
        "id": "5ubqf9g7xoVp"
      }
    },
    {
      "cell_type": "code",
      "source": [
        "import pandas as pd\n",
        "from sklearn.model_selection import train_test_split\n",
        "from sklearn.preprocessing import StandardScaler\n",
        "\n",
        "# Load your dataset\n",
        "df = pd.read_csv(\"/content/drive/MyDrive/Colab Notebooks/Target Data/final_transformed_data.csv\")  # Change this to your actual file path\n",
        "\n",
        "# Drop high-cardinality columns (Order IDs)\n",
        "df = df.drop(columns=[col for col in df.columns if \"Order ID\" in col])\n",
        "\n",
        "# Select numerical features\n",
        "numerical_features = [\"Aging\", \"Quantity\", \"Discount\"]  # Add more if needed\n",
        "df = df[numerical_features]\n",
        "\n",
        "# Handle missing values\n",
        "df.fillna(df.mean(), inplace=True)\n",
        "\n",
        "# Scale the data\n",
        "scaler = StandardScaler()\n",
        "df_scaled = pd.DataFrame(scaler.fit_transform(df), columns=df.columns)\n"
      ],
      "metadata": {
        "id": "Wajv047rxfVX"
      },
      "execution_count": 8,
      "outputs": []
    },
    {
      "cell_type": "markdown",
      "source": [
        "Supervised Learning (Regression & Classification)\n",
        "**2.1 Regression: Predicting Sales**"
      ],
      "metadata": {
        "id": "wBHQ_7M9yRZb"
      }
    },
    {
      "cell_type": "code",
      "source": [
        "print([col for col in df.columns if \"Sales\" in col])\n"
      ],
      "metadata": {
        "id": "fCTffTdYyOGW",
        "outputId": "b03cb7cb-8fe3-40d7-9d9f-a15e4f9e9b34",
        "colab": {
          "base_uri": "https://localhost:8080/"
        }
      },
      "execution_count": 9,
      "outputs": [
        {
          "output_type": "stream",
          "name": "stdout",
          "text": [
            "[]\n"
          ]
        }
      ]
    },
    {
      "cell_type": "markdown",
      "source": [
        "**Load Transformed Data**"
      ],
      "metadata": {
        "id": "lEh89vkuzHNT"
      }
    },
    {
      "cell_type": "code",
      "source": [
        "import pandas as pd\n",
        "\n",
        "# Load your transformed CSV file\n",
        "file_path = \"/content/drive/MyDrive/Colab Notebooks/Target Data/final_transformed_data.csv\"\n",
        "df = pd.read_csv(file_path)\n",
        "\n",
        "# Display first few rows\n",
        "df.head()\n"
      ],
      "metadata": {
        "id": "gchdm7qWzEst",
        "outputId": "6a54f87d-0a8e-4a05-e2d8-f6cec066d0d1",
        "colab": {
          "base_uri": "https://localhost:8080/",
          "height": 446
        }
      },
      "execution_count": 10,
      "outputs": [
        {
          "output_type": "execute_result",
          "data": {
            "text/plain": [
              "    Order ID Order Date   Ship Date Qtr  Aging            c    Ship Mode  \\\n",
              "0  AU-2015-1  11/9/2015  11/17/2015  Q4      8  first class  First Class   \n",
              "1  AU-2015-2  6/30/2015    7/2/2015  Q2      2  first class  First Class   \n",
              "2  AU-2015-3  12/5/2015  12/13/2015  Q4      8  first class  First Class   \n",
              "3  AU-2015-4   5/9/2015   5/16/2015  Q2      7  first class  First Class   \n",
              "4  AU-2015-5   7/9/2015   7/18/2015  Q3      9  first class  First Class   \n",
              "\n",
              "     Product Category  Quantity            Product  ... Shipping Cost  \\\n",
              "0  Auto & Accessories         1  Car Media Players  ...          $4.6   \n",
              "1  Auto & Accessories         1       Car Speakers  ...         $11.2   \n",
              "2  Auto & Accessories         5    Car Body Covers  ...          $3.1   \n",
              "3  Auto & Accessories         4    Car & Bike Care  ...          $2.6   \n",
              "4  Auto & Accessories         5               Tyre  ...         $16.0   \n",
              "\n",
              "   Order Priority Customer ID    Customer Name      Segment        City  \\\n",
              "0          Medium      LS-001     Lane Daniels     Consumer    Brisbane   \n",
              "1          Medium      IZ-002    Alvarado Kriz  Home Office      Berlin   \n",
              "2        Critical      EN-003       Moon Weien     Consumer     Porirua   \n",
              "3            High      AN-004  Sanchez Bergman    Corporate       Kabul   \n",
              "4        Critical      ON-005     Rowe Jackson    Corporate  Townsville   \n",
              "\n",
              "        State      Country        Region Months  \n",
              "0  Queensland    Australia       Oceania    Nov  \n",
              "1      Berlin      Germany       Central    Jun  \n",
              "2  Wellington  New Zealand       Oceania    Dec  \n",
              "3       Kabul  Afghanistan  Central Asia    May  \n",
              "4  Queensland    Australia       Oceania    Jul  \n",
              "\n",
              "[5 rows x 23 columns]"
            ],
            "text/html": [
              "\n",
              "  <div id=\"df-3364e52e-d5dc-4723-9b9e-e3baab426404\" class=\"colab-df-container\">\n",
              "    <div>\n",
              "<style scoped>\n",
              "    .dataframe tbody tr th:only-of-type {\n",
              "        vertical-align: middle;\n",
              "    }\n",
              "\n",
              "    .dataframe tbody tr th {\n",
              "        vertical-align: top;\n",
              "    }\n",
              "\n",
              "    .dataframe thead th {\n",
              "        text-align: right;\n",
              "    }\n",
              "</style>\n",
              "<table border=\"1\" class=\"dataframe\">\n",
              "  <thead>\n",
              "    <tr style=\"text-align: right;\">\n",
              "      <th></th>\n",
              "      <th>Order ID</th>\n",
              "      <th>Order Date</th>\n",
              "      <th>Ship Date</th>\n",
              "      <th>Qtr</th>\n",
              "      <th>Aging</th>\n",
              "      <th>c</th>\n",
              "      <th>Ship Mode</th>\n",
              "      <th>Product Category</th>\n",
              "      <th>Quantity</th>\n",
              "      <th>Product</th>\n",
              "      <th>...</th>\n",
              "      <th>Shipping Cost</th>\n",
              "      <th>Order Priority</th>\n",
              "      <th>Customer ID</th>\n",
              "      <th>Customer Name</th>\n",
              "      <th>Segment</th>\n",
              "      <th>City</th>\n",
              "      <th>State</th>\n",
              "      <th>Country</th>\n",
              "      <th>Region</th>\n",
              "      <th>Months</th>\n",
              "    </tr>\n",
              "  </thead>\n",
              "  <tbody>\n",
              "    <tr>\n",
              "      <th>0</th>\n",
              "      <td>AU-2015-1</td>\n",
              "      <td>11/9/2015</td>\n",
              "      <td>11/17/2015</td>\n",
              "      <td>Q4</td>\n",
              "      <td>8</td>\n",
              "      <td>first class</td>\n",
              "      <td>First Class</td>\n",
              "      <td>Auto &amp; Accessories</td>\n",
              "      <td>1</td>\n",
              "      <td>Car Media Players</td>\n",
              "      <td>...</td>\n",
              "      <td>$4.6</td>\n",
              "      <td>Medium</td>\n",
              "      <td>LS-001</td>\n",
              "      <td>Lane Daniels</td>\n",
              "      <td>Consumer</td>\n",
              "      <td>Brisbane</td>\n",
              "      <td>Queensland</td>\n",
              "      <td>Australia</td>\n",
              "      <td>Oceania</td>\n",
              "      <td>Nov</td>\n",
              "    </tr>\n",
              "    <tr>\n",
              "      <th>1</th>\n",
              "      <td>AU-2015-2</td>\n",
              "      <td>6/30/2015</td>\n",
              "      <td>7/2/2015</td>\n",
              "      <td>Q2</td>\n",
              "      <td>2</td>\n",
              "      <td>first class</td>\n",
              "      <td>First Class</td>\n",
              "      <td>Auto &amp; Accessories</td>\n",
              "      <td>1</td>\n",
              "      <td>Car Speakers</td>\n",
              "      <td>...</td>\n",
              "      <td>$11.2</td>\n",
              "      <td>Medium</td>\n",
              "      <td>IZ-002</td>\n",
              "      <td>Alvarado Kriz</td>\n",
              "      <td>Home Office</td>\n",
              "      <td>Berlin</td>\n",
              "      <td>Berlin</td>\n",
              "      <td>Germany</td>\n",
              "      <td>Central</td>\n",
              "      <td>Jun</td>\n",
              "    </tr>\n",
              "    <tr>\n",
              "      <th>2</th>\n",
              "      <td>AU-2015-3</td>\n",
              "      <td>12/5/2015</td>\n",
              "      <td>12/13/2015</td>\n",
              "      <td>Q4</td>\n",
              "      <td>8</td>\n",
              "      <td>first class</td>\n",
              "      <td>First Class</td>\n",
              "      <td>Auto &amp; Accessories</td>\n",
              "      <td>5</td>\n",
              "      <td>Car Body Covers</td>\n",
              "      <td>...</td>\n",
              "      <td>$3.1</td>\n",
              "      <td>Critical</td>\n",
              "      <td>EN-003</td>\n",
              "      <td>Moon Weien</td>\n",
              "      <td>Consumer</td>\n",
              "      <td>Porirua</td>\n",
              "      <td>Wellington</td>\n",
              "      <td>New Zealand</td>\n",
              "      <td>Oceania</td>\n",
              "      <td>Dec</td>\n",
              "    </tr>\n",
              "    <tr>\n",
              "      <th>3</th>\n",
              "      <td>AU-2015-4</td>\n",
              "      <td>5/9/2015</td>\n",
              "      <td>5/16/2015</td>\n",
              "      <td>Q2</td>\n",
              "      <td>7</td>\n",
              "      <td>first class</td>\n",
              "      <td>First Class</td>\n",
              "      <td>Auto &amp; Accessories</td>\n",
              "      <td>4</td>\n",
              "      <td>Car &amp; Bike Care</td>\n",
              "      <td>...</td>\n",
              "      <td>$2.6</td>\n",
              "      <td>High</td>\n",
              "      <td>AN-004</td>\n",
              "      <td>Sanchez Bergman</td>\n",
              "      <td>Corporate</td>\n",
              "      <td>Kabul</td>\n",
              "      <td>Kabul</td>\n",
              "      <td>Afghanistan</td>\n",
              "      <td>Central Asia</td>\n",
              "      <td>May</td>\n",
              "    </tr>\n",
              "    <tr>\n",
              "      <th>4</th>\n",
              "      <td>AU-2015-5</td>\n",
              "      <td>7/9/2015</td>\n",
              "      <td>7/18/2015</td>\n",
              "      <td>Q3</td>\n",
              "      <td>9</td>\n",
              "      <td>first class</td>\n",
              "      <td>First Class</td>\n",
              "      <td>Auto &amp; Accessories</td>\n",
              "      <td>5</td>\n",
              "      <td>Tyre</td>\n",
              "      <td>...</td>\n",
              "      <td>$16.0</td>\n",
              "      <td>Critical</td>\n",
              "      <td>ON-005</td>\n",
              "      <td>Rowe Jackson</td>\n",
              "      <td>Corporate</td>\n",
              "      <td>Townsville</td>\n",
              "      <td>Queensland</td>\n",
              "      <td>Australia</td>\n",
              "      <td>Oceania</td>\n",
              "      <td>Jul</td>\n",
              "    </tr>\n",
              "  </tbody>\n",
              "</table>\n",
              "<p>5 rows × 23 columns</p>\n",
              "</div>\n",
              "    <div class=\"colab-df-buttons\">\n",
              "\n",
              "  <div class=\"colab-df-container\">\n",
              "    <button class=\"colab-df-convert\" onclick=\"convertToInteractive('df-3364e52e-d5dc-4723-9b9e-e3baab426404')\"\n",
              "            title=\"Convert this dataframe to an interactive table.\"\n",
              "            style=\"display:none;\">\n",
              "\n",
              "  <svg xmlns=\"http://www.w3.org/2000/svg\" height=\"24px\" viewBox=\"0 -960 960 960\">\n",
              "    <path d=\"M120-120v-720h720v720H120Zm60-500h600v-160H180v160Zm220 220h160v-160H400v160Zm0 220h160v-160H400v160ZM180-400h160v-160H180v160Zm440 0h160v-160H620v160ZM180-180h160v-160H180v160Zm440 0h160v-160H620v160Z\"/>\n",
              "  </svg>\n",
              "    </button>\n",
              "\n",
              "  <style>\n",
              "    .colab-df-container {\n",
              "      display:flex;\n",
              "      gap: 12px;\n",
              "    }\n",
              "\n",
              "    .colab-df-convert {\n",
              "      background-color: #E8F0FE;\n",
              "      border: none;\n",
              "      border-radius: 50%;\n",
              "      cursor: pointer;\n",
              "      display: none;\n",
              "      fill: #1967D2;\n",
              "      height: 32px;\n",
              "      padding: 0 0 0 0;\n",
              "      width: 32px;\n",
              "    }\n",
              "\n",
              "    .colab-df-convert:hover {\n",
              "      background-color: #E2EBFA;\n",
              "      box-shadow: 0px 1px 2px rgba(60, 64, 67, 0.3), 0px 1px 3px 1px rgba(60, 64, 67, 0.15);\n",
              "      fill: #174EA6;\n",
              "    }\n",
              "\n",
              "    .colab-df-buttons div {\n",
              "      margin-bottom: 4px;\n",
              "    }\n",
              "\n",
              "    [theme=dark] .colab-df-convert {\n",
              "      background-color: #3B4455;\n",
              "      fill: #D2E3FC;\n",
              "    }\n",
              "\n",
              "    [theme=dark] .colab-df-convert:hover {\n",
              "      background-color: #434B5C;\n",
              "      box-shadow: 0px 1px 3px 1px rgba(0, 0, 0, 0.15);\n",
              "      filter: drop-shadow(0px 1px 2px rgba(0, 0, 0, 0.3));\n",
              "      fill: #FFFFFF;\n",
              "    }\n",
              "  </style>\n",
              "\n",
              "    <script>\n",
              "      const buttonEl =\n",
              "        document.querySelector('#df-3364e52e-d5dc-4723-9b9e-e3baab426404 button.colab-df-convert');\n",
              "      buttonEl.style.display =\n",
              "        google.colab.kernel.accessAllowed ? 'block' : 'none';\n",
              "\n",
              "      async function convertToInteractive(key) {\n",
              "        const element = document.querySelector('#df-3364e52e-d5dc-4723-9b9e-e3baab426404');\n",
              "        const dataTable =\n",
              "          await google.colab.kernel.invokeFunction('convertToInteractive',\n",
              "                                                    [key], {});\n",
              "        if (!dataTable) return;\n",
              "\n",
              "        const docLinkHtml = 'Like what you see? Visit the ' +\n",
              "          '<a target=\"_blank\" href=https://colab.research.google.com/notebooks/data_table.ipynb>data table notebook</a>'\n",
              "          + ' to learn more about interactive tables.';\n",
              "        element.innerHTML = '';\n",
              "        dataTable['output_type'] = 'display_data';\n",
              "        await google.colab.output.renderOutput(dataTable, element);\n",
              "        const docLink = document.createElement('div');\n",
              "        docLink.innerHTML = docLinkHtml;\n",
              "        element.appendChild(docLink);\n",
              "      }\n",
              "    </script>\n",
              "  </div>\n",
              "\n",
              "\n",
              "<div id=\"df-f629b855-d393-4e88-ba7c-7a45c8195558\">\n",
              "  <button class=\"colab-df-quickchart\" onclick=\"quickchart('df-f629b855-d393-4e88-ba7c-7a45c8195558')\"\n",
              "            title=\"Suggest charts\"\n",
              "            style=\"display:none;\">\n",
              "\n",
              "<svg xmlns=\"http://www.w3.org/2000/svg\" height=\"24px\"viewBox=\"0 0 24 24\"\n",
              "     width=\"24px\">\n",
              "    <g>\n",
              "        <path d=\"M19 3H5c-1.1 0-2 .9-2 2v14c0 1.1.9 2 2 2h14c1.1 0 2-.9 2-2V5c0-1.1-.9-2-2-2zM9 17H7v-7h2v7zm4 0h-2V7h2v10zm4 0h-2v-4h2v4z\"/>\n",
              "    </g>\n",
              "</svg>\n",
              "  </button>\n",
              "\n",
              "<style>\n",
              "  .colab-df-quickchart {\n",
              "      --bg-color: #E8F0FE;\n",
              "      --fill-color: #1967D2;\n",
              "      --hover-bg-color: #E2EBFA;\n",
              "      --hover-fill-color: #174EA6;\n",
              "      --disabled-fill-color: #AAA;\n",
              "      --disabled-bg-color: #DDD;\n",
              "  }\n",
              "\n",
              "  [theme=dark] .colab-df-quickchart {\n",
              "      --bg-color: #3B4455;\n",
              "      --fill-color: #D2E3FC;\n",
              "      --hover-bg-color: #434B5C;\n",
              "      --hover-fill-color: #FFFFFF;\n",
              "      --disabled-bg-color: #3B4455;\n",
              "      --disabled-fill-color: #666;\n",
              "  }\n",
              "\n",
              "  .colab-df-quickchart {\n",
              "    background-color: var(--bg-color);\n",
              "    border: none;\n",
              "    border-radius: 50%;\n",
              "    cursor: pointer;\n",
              "    display: none;\n",
              "    fill: var(--fill-color);\n",
              "    height: 32px;\n",
              "    padding: 0;\n",
              "    width: 32px;\n",
              "  }\n",
              "\n",
              "  .colab-df-quickchart:hover {\n",
              "    background-color: var(--hover-bg-color);\n",
              "    box-shadow: 0 1px 2px rgba(60, 64, 67, 0.3), 0 1px 3px 1px rgba(60, 64, 67, 0.15);\n",
              "    fill: var(--button-hover-fill-color);\n",
              "  }\n",
              "\n",
              "  .colab-df-quickchart-complete:disabled,\n",
              "  .colab-df-quickchart-complete:disabled:hover {\n",
              "    background-color: var(--disabled-bg-color);\n",
              "    fill: var(--disabled-fill-color);\n",
              "    box-shadow: none;\n",
              "  }\n",
              "\n",
              "  .colab-df-spinner {\n",
              "    border: 2px solid var(--fill-color);\n",
              "    border-color: transparent;\n",
              "    border-bottom-color: var(--fill-color);\n",
              "    animation:\n",
              "      spin 1s steps(1) infinite;\n",
              "  }\n",
              "\n",
              "  @keyframes spin {\n",
              "    0% {\n",
              "      border-color: transparent;\n",
              "      border-bottom-color: var(--fill-color);\n",
              "      border-left-color: var(--fill-color);\n",
              "    }\n",
              "    20% {\n",
              "      border-color: transparent;\n",
              "      border-left-color: var(--fill-color);\n",
              "      border-top-color: var(--fill-color);\n",
              "    }\n",
              "    30% {\n",
              "      border-color: transparent;\n",
              "      border-left-color: var(--fill-color);\n",
              "      border-top-color: var(--fill-color);\n",
              "      border-right-color: var(--fill-color);\n",
              "    }\n",
              "    40% {\n",
              "      border-color: transparent;\n",
              "      border-right-color: var(--fill-color);\n",
              "      border-top-color: var(--fill-color);\n",
              "    }\n",
              "    60% {\n",
              "      border-color: transparent;\n",
              "      border-right-color: var(--fill-color);\n",
              "    }\n",
              "    80% {\n",
              "      border-color: transparent;\n",
              "      border-right-color: var(--fill-color);\n",
              "      border-bottom-color: var(--fill-color);\n",
              "    }\n",
              "    90% {\n",
              "      border-color: transparent;\n",
              "      border-bottom-color: var(--fill-color);\n",
              "    }\n",
              "  }\n",
              "</style>\n",
              "\n",
              "  <script>\n",
              "    async function quickchart(key) {\n",
              "      const quickchartButtonEl =\n",
              "        document.querySelector('#' + key + ' button');\n",
              "      quickchartButtonEl.disabled = true;  // To prevent multiple clicks.\n",
              "      quickchartButtonEl.classList.add('colab-df-spinner');\n",
              "      try {\n",
              "        const charts = await google.colab.kernel.invokeFunction(\n",
              "            'suggestCharts', [key], {});\n",
              "      } catch (error) {\n",
              "        console.error('Error during call to suggestCharts:', error);\n",
              "      }\n",
              "      quickchartButtonEl.classList.remove('colab-df-spinner');\n",
              "      quickchartButtonEl.classList.add('colab-df-quickchart-complete');\n",
              "    }\n",
              "    (() => {\n",
              "      let quickchartButtonEl =\n",
              "        document.querySelector('#df-f629b855-d393-4e88-ba7c-7a45c8195558 button');\n",
              "      quickchartButtonEl.style.display =\n",
              "        google.colab.kernel.accessAllowed ? 'block' : 'none';\n",
              "    })();\n",
              "  </script>\n",
              "</div>\n",
              "\n",
              "    </div>\n",
              "  </div>\n"
            ],
            "application/vnd.google.colaboratory.intrinsic+json": {
              "type": "dataframe",
              "variable_name": "df"
            }
          },
          "metadata": {},
          "execution_count": 10
        }
      ]
    },
    {
      "cell_type": "markdown",
      "source": [
        "**Define Features (X) and Target Variables (Y)**"
      ],
      "metadata": {
        "id": "942zFmg4zNis"
      }
    },
    {
      "cell_type": "code",
      "source": [
        "# Define target variables (columns we want to predict)\n",
        "target_columns = [\"Quantity\", \"Discount\", \"Aging\"]\n",
        "\n",
        "# Check if target columns exist in the dataset\n",
        "missing_cols = [col for col in target_columns if col not in df.columns]\n",
        "if missing_cols:\n",
        "    print(f\"❌ Missing target columns: {missing_cols}\")\n",
        "else:\n",
        "    print(f\"✅ Target columns found: {target_columns}\")\n",
        "\n",
        "# Define features (X) and target (Y)\n",
        "X = df.drop(columns=target_columns)  # All columns except target\n",
        "Y = df[target_columns]  # Target variables\n"
      ],
      "metadata": {
        "id": "v4zVICIEzLE1",
        "outputId": "5a7126be-b192-4167-ccfc-cf06e275c9f2",
        "colab": {
          "base_uri": "https://localhost:8080/"
        }
      },
      "execution_count": 13,
      "outputs": [
        {
          "output_type": "stream",
          "name": "stdout",
          "text": [
            "✅ Target columns found: ['Quantity', 'Discount', 'Aging']\n"
          ]
        }
      ]
    },
    {
      "cell_type": "markdown",
      "source": [
        "**Train-Test Split**"
      ],
      "metadata": {
        "id": "H81YwVz6zRHu"
      }
    },
    {
      "cell_type": "code",
      "source": [
        "from sklearn.model_selection import train_test_split\n",
        "\n",
        "# Split data into 80% training and 20% testing\n",
        "X_train, X_test, Y_train, Y_test = train_test_split(X, Y, test_size=0.2, random_state=42)\n",
        "\n",
        "print(f\"✅ Training data: {X_train.shape}, {Y_train.shape}\")\n",
        "print(f\"✅ Testing data: {X_test.shape}, {Y_test.shape}\")\n"
      ],
      "metadata": {
        "id": "sHMzPDQezUDd",
        "outputId": "4bbc2ba5-1c80-451d-e628-3ad15baa9c4f",
        "colab": {
          "base_uri": "https://localhost:8080/"
        }
      },
      "execution_count": 14,
      "outputs": [
        {
          "output_type": "stream",
          "name": "stdout",
          "text": [
            "✅ Training data: (41032, 20), (41032, 3)\n",
            "✅ Testing data: (10258, 20), (10258, 3)\n"
          ]
        }
      ]
    },
    {
      "cell_type": "markdown",
      "source": [
        "**Train a Multi-Output Regression Model**"
      ],
      "metadata": {
        "id": "wAQj6vEZzWlb"
      }
    },
    {
      "cell_type": "code",
      "source": [
        "# Identify non-numeric columns\n",
        "categorical_cols = X.select_dtypes(include=['object']).columns.tolist()\n",
        "\n",
        "if categorical_cols:\n",
        "    print(f\"🔹 Categorical columns found: {categorical_cols}\")\n",
        "else:\n",
        "    print(\"✅ No categorical columns found, ready for ML!\")\n"
      ],
      "metadata": {
        "id": "2XPhEnw5zZQn",
        "outputId": "aab0c6f2-5790-44ea-ef79-7aae5acae399",
        "colab": {
          "base_uri": "https://localhost:8080/"
        }
      },
      "execution_count": 16,
      "outputs": [
        {
          "output_type": "stream",
          "name": "stdout",
          "text": [
            "🔹 Categorical columns found: ['Order ID', 'Order Date', 'Ship Date', 'Qtr', 'c', 'Ship Mode', 'Product Category', 'Product', 'Sales', 'Profit', 'Shipping Cost', 'Order Priority', 'Customer ID', 'Customer Name', 'Segment', 'City', 'State', 'Country', 'Region', 'Months']\n"
          ]
        }
      ]
    },
    {
      "cell_type": "code",
      "source": [
        "from sklearn.preprocessing import OneHotEncoder\n",
        "\n",
        "# Apply One-Hot Encoding\n",
        "X = pd.get_dummies(X, columns=categorical_cols)\n",
        "\n",
        "print(f\"✅ Transformed X shape: {X.shape}\")\n"
      ],
      "metadata": {
        "id": "EjOGy69Aznqh",
        "outputId": "2d8c4fb8-fb6b-4a25-a31e-d63f1d70b48f",
        "colab": {
          "base_uri": "https://localhost:8080/"
        }
      },
      "execution_count": 17,
      "outputs": [
        {
          "output_type": "stream",
          "name": "stdout",
          "text": [
            "✅ Transformed X shape: (51290, 109666)\n"
          ]
        }
      ]
    },
    {
      "cell_type": "code",
      "source": [
        "# Identify categorical columns\n",
        "categorical_cols = X.select_dtypes(include=['object']).columns.tolist()\n",
        "\n",
        "print(f\"🔹 Categorical columns found: {categorical_cols}\")\n"
      ],
      "metadata": {
        "id": "n6RjV6Dszuws",
        "outputId": "e4dd7abe-a536-43ad-c615-5219c86f9d07",
        "colab": {
          "base_uri": "https://localhost:8080/"
        }
      },
      "execution_count": 19,
      "outputs": [
        {
          "output_type": "stream",
          "name": "stdout",
          "text": [
            "🔹 Categorical columns found: []\n"
          ]
        }
      ]
    },
    {
      "cell_type": "code",
      "source": [
        "# Find columns with non-numeric values\n",
        "non_numeric_cols = [col for col in X.columns if not pd.api.types.is_numeric_dtype(X[col])]\n",
        "\n",
        "print(f\"🔹 Non-numeric columns: {non_numeric_cols}\")\n"
      ],
      "metadata": {
        "id": "q2nenmutz_ss",
        "outputId": "c60f5bbb-46dd-4719-d169-d0030707f73a",
        "colab": {
          "base_uri": "https://localhost:8080/"
        }
      },
      "execution_count": 20,
      "outputs": [
        {
          "output_type": "stream",
          "name": "stdout",
          "text": [
            "🔹 Non-numeric columns: []\n"
          ]
        }
      ]
    },
    {
      "cell_type": "code",
      "source": [
        "print(X.dtypes)\n"
      ],
      "metadata": {
        "id": "rAPnl2NN0jUd",
        "outputId": "ac4e6414-1266-4b56-854a-c61e2c6e4a49",
        "colab": {
          "base_uri": "https://localhost:8080/"
        }
      },
      "execution_count": 21,
      "outputs": [
        {
          "output_type": "stream",
          "name": "stdout",
          "text": [
            "Order ID_AU-2015-1       bool\n",
            "Order ID_AU-2015-10      bool\n",
            "Order ID_AU-2015-100     bool\n",
            "Order ID_AU-2015-1000    bool\n",
            "Order ID_AU-2015-1001    bool\n",
            "                         ... \n",
            "Months_Mar               bool\n",
            "Months_May               bool\n",
            "Months_Nov               bool\n",
            "Months_Oct               bool\n",
            "Months_Sep               bool\n",
            "Length: 109666, dtype: object\n"
          ]
        }
      ]
    },
    {
      "cell_type": "code",
      "source": [
        "# Drop non-relevant columns and define target\n",
        "X = df.drop(columns=['Order ID', 'Customer ID', 'Customer Name'], errors='ignore')\n",
        "\n",
        "# Define target column (replace with actual target)\n",
        "y = df.get('target_column')  # Replace 'target_column' with your actual target\n"
      ],
      "metadata": {
        "id": "rJSWoUds0s--"
      },
      "execution_count": 11,
      "outputs": []
    },
    {
      "cell_type": "code",
      "source": [
        "# Convert 'Order Date' and 'Ship Date' to datetime format\n",
        "X['Order Date'] = pd.to_datetime(X['Order Date'], errors='coerce')\n",
        "X['Ship Date'] = pd.to_datetime(X['Ship Date'], errors='coerce')\n",
        "\n",
        "# Create new numeric features\n",
        "X['Order_Year'] = X['Order Date'].dt.year\n",
        "X['Order_Month'] = X['Order Date'].dt.month\n",
        "X['Shipping_Days'] = (X['Ship Date'] - X['Order Date']).dt.days\n",
        "\n",
        "# Drop original date columns\n",
        "X.drop(columns=['Order Date', 'Ship Date'], inplace=True)\n"
      ],
      "metadata": {
        "id": "kaZ5JJr-1XvL"
      },
      "execution_count": 12,
      "outputs": []
    },
    {
      "cell_type": "code",
      "source": [
        "# Identify categorical columns\n",
        "categorical_cols = X.select_dtypes(include=['object']).columns\n",
        "print(f\"🔹 Categorical Columns: {list(categorical_cols)}\")\n",
        "\n",
        "# One-hot encoding for categorical features\n",
        "X = pd.get_dummies(X, columns=categorical_cols, drop_first=True)\n"
      ],
      "metadata": {
        "id": "BG2ztWDn0u_k",
        "outputId": "e648b338-4ecb-4cea-ead4-dbcbca5ea307",
        "colab": {
          "base_uri": "https://localhost:8080/"
        }
      },
      "execution_count": 13,
      "outputs": [
        {
          "output_type": "stream",
          "name": "stdout",
          "text": [
            "🔹 Categorical Columns: ['Qtr', 'c', 'Ship Mode', 'Product Category', 'Product', 'Sales', 'Profit', 'Shipping Cost', 'Order Priority', 'Segment', 'City', 'State', 'Country', 'Region', 'Months']\n"
          ]
        }
      ]
    },
    {
      "cell_type": "code",
      "source": [
        "print(df.columns.tolist())\n"
      ],
      "metadata": {
        "id": "bGFgJKSU1fRL",
        "outputId": "34faaa14-63ba-4bbe-c887-ecf461284dbe",
        "colab": {
          "base_uri": "https://localhost:8080/"
        }
      },
      "execution_count": 15,
      "outputs": [
        {
          "output_type": "stream",
          "name": "stdout",
          "text": [
            "['Order ID', 'Order Date', 'Ship Date', 'Qtr', 'Aging', 'c', 'Ship Mode', 'Product Category', 'Quantity', 'Product', 'Sales', 'Discount', 'Profit', 'Shipping Cost', 'Order Priority', 'Customer ID', 'Customer Name', 'Segment', 'City', 'State', 'Country', 'Region', 'Months']\n"
          ]
        }
      ]
    },
    {
      "cell_type": "code",
      "source": [
        "df.rename(columns=lambda x: x.strip(), inplace=True)  # Removes spaces\n"
      ],
      "metadata": {
        "id": "l8768wDb13gW"
      },
      "execution_count": 16,
      "outputs": []
    },
    {
      "cell_type": "code",
      "source": [
        "df['Shipping Cost'] = df['Shipping Cost'].astype(str).str.replace('[\\$,]', '', regex=True).astype(float)\n"
      ],
      "metadata": {
        "id": "CqbUxFtJ15F_"
      },
      "execution_count": 17,
      "outputs": []
    },
    {
      "cell_type": "code",
      "source": [
        "if 'Shipping Cost' in df.columns:\n",
        "    print(\"✅ 'Shipping Cost' column found!\")\n",
        "else:\n",
        "    print(\"❌ 'Shipping Cost' column NOT found! Check for typos.\")\n"
      ],
      "metadata": {
        "id": "gM-lc_2O18Jq",
        "outputId": "81efe223-956e-48ca-bff7-ba4ea85b4327",
        "colab": {
          "base_uri": "https://localhost:8080/"
        }
      },
      "execution_count": 18,
      "outputs": [
        {
          "output_type": "stream",
          "name": "stdout",
          "text": [
            "✅ 'Shipping Cost' column found!\n"
          ]
        }
      ]
    },
    {
      "cell_type": "code",
      "source": [
        "print(df.columns.tolist())  # Shows column names exactly as stored\n"
      ],
      "metadata": {
        "id": "mxSEdWNM1_q5",
        "outputId": "098a3fbb-2d6c-4e31-f569-4a118b622124",
        "colab": {
          "base_uri": "https://localhost:8080/"
        }
      },
      "execution_count": 19,
      "outputs": [
        {
          "output_type": "stream",
          "name": "stdout",
          "text": [
            "['Order ID', 'Order Date', 'Ship Date', 'Qtr', 'Aging', 'c', 'Ship Mode', 'Product Category', 'Quantity', 'Product', 'Sales', 'Discount', 'Profit', 'Shipping Cost', 'Order Priority', 'Customer ID', 'Customer Name', 'Segment', 'City', 'State', 'Country', 'Region', 'Months']\n"
          ]
        }
      ]
    },
    {
      "cell_type": "code",
      "source": [
        "print(\"Shipping Cost\" in df.columns)  # Should return True\n"
      ],
      "metadata": {
        "id": "M5X5isGq2V45",
        "outputId": "f40a309e-a0d9-4129-fc46-007efe8b640b",
        "colab": {
          "base_uri": "https://localhost:8080/"
        }
      },
      "execution_count": 20,
      "outputs": [
        {
          "output_type": "stream",
          "name": "stdout",
          "text": [
            "True\n"
          ]
        }
      ]
    },
    {
      "cell_type": "code",
      "source": [
        "pip install fastapi uvicorn joblib pandas scikit-learn\n"
      ],
      "metadata": {
        "id": "COXqXab74Vsh",
        "outputId": "bff3c20f-bdcd-456c-94db-04da41816821",
        "colab": {
          "base_uri": "https://localhost:8080/"
        }
      },
      "execution_count": 21,
      "outputs": [
        {
          "output_type": "stream",
          "name": "stdout",
          "text": [
            "Collecting fastapi\n",
            "  Downloading fastapi-0.115.12-py3-none-any.whl.metadata (27 kB)\n",
            "Collecting uvicorn\n",
            "  Downloading uvicorn-0.34.0-py3-none-any.whl.metadata (6.5 kB)\n",
            "Requirement already satisfied: joblib in /usr/local/lib/python3.11/dist-packages (1.4.2)\n",
            "Requirement already satisfied: pandas in /usr/local/lib/python3.11/dist-packages (2.2.2)\n",
            "Requirement already satisfied: scikit-learn in /usr/local/lib/python3.11/dist-packages (1.6.1)\n",
            "Collecting starlette<0.47.0,>=0.40.0 (from fastapi)\n",
            "  Downloading starlette-0.46.1-py3-none-any.whl.metadata (6.2 kB)\n",
            "Requirement already satisfied: pydantic!=1.8,!=1.8.1,!=2.0.0,!=2.0.1,!=2.1.0,<3.0.0,>=1.7.4 in /usr/local/lib/python3.11/dist-packages (from fastapi) (2.10.6)\n",
            "Requirement already satisfied: typing-extensions>=4.8.0 in /usr/local/lib/python3.11/dist-packages (from fastapi) (4.12.2)\n",
            "Requirement already satisfied: click>=7.0 in /usr/local/lib/python3.11/dist-packages (from uvicorn) (8.1.8)\n",
            "Requirement already satisfied: h11>=0.8 in /usr/local/lib/python3.11/dist-packages (from uvicorn) (0.14.0)\n",
            "Requirement already satisfied: numpy>=1.23.2 in /usr/local/lib/python3.11/dist-packages (from pandas) (2.0.2)\n",
            "Requirement already satisfied: python-dateutil>=2.8.2 in /usr/local/lib/python3.11/dist-packages (from pandas) (2.8.2)\n",
            "Requirement already satisfied: pytz>=2020.1 in /usr/local/lib/python3.11/dist-packages (from pandas) (2025.1)\n",
            "Requirement already satisfied: tzdata>=2022.7 in /usr/local/lib/python3.11/dist-packages (from pandas) (2025.1)\n",
            "Requirement already satisfied: scipy>=1.6.0 in /usr/local/lib/python3.11/dist-packages (from scikit-learn) (1.14.1)\n",
            "Requirement already satisfied: threadpoolctl>=3.1.0 in /usr/local/lib/python3.11/dist-packages (from scikit-learn) (3.6.0)\n",
            "Requirement already satisfied: annotated-types>=0.6.0 in /usr/local/lib/python3.11/dist-packages (from pydantic!=1.8,!=1.8.1,!=2.0.0,!=2.0.1,!=2.1.0,<3.0.0,>=1.7.4->fastapi) (0.7.0)\n",
            "Requirement already satisfied: pydantic-core==2.27.2 in /usr/local/lib/python3.11/dist-packages (from pydantic!=1.8,!=1.8.1,!=2.0.0,!=2.0.1,!=2.1.0,<3.0.0,>=1.7.4->fastapi) (2.27.2)\n",
            "Requirement already satisfied: six>=1.5 in /usr/local/lib/python3.11/dist-packages (from python-dateutil>=2.8.2->pandas) (1.17.0)\n",
            "Requirement already satisfied: anyio<5,>=3.6.2 in /usr/local/lib/python3.11/dist-packages (from starlette<0.47.0,>=0.40.0->fastapi) (4.9.0)\n",
            "Requirement already satisfied: idna>=2.8 in /usr/local/lib/python3.11/dist-packages (from anyio<5,>=3.6.2->starlette<0.47.0,>=0.40.0->fastapi) (3.10)\n",
            "Requirement already satisfied: sniffio>=1.1 in /usr/local/lib/python3.11/dist-packages (from anyio<5,>=3.6.2->starlette<0.47.0,>=0.40.0->fastapi) (1.3.1)\n",
            "Downloading fastapi-0.115.12-py3-none-any.whl (95 kB)\n",
            "\u001b[2K   \u001b[90m━━━━━━━━━━━━━━━━━━━━━━━━━━━━━━━━━━━━━━━━\u001b[0m \u001b[32m95.2/95.2 kB\u001b[0m \u001b[31m4.8 MB/s\u001b[0m eta \u001b[36m0:00:00\u001b[0m\n",
            "\u001b[?25hDownloading uvicorn-0.34.0-py3-none-any.whl (62 kB)\n",
            "\u001b[2K   \u001b[90m━━━━━━━━━━━━━━━━━━━━━━━━━━━━━━━━━━━━━━━━\u001b[0m \u001b[32m62.3/62.3 kB\u001b[0m \u001b[31m4.0 MB/s\u001b[0m eta \u001b[36m0:00:00\u001b[0m\n",
            "\u001b[?25hDownloading starlette-0.46.1-py3-none-any.whl (71 kB)\n",
            "\u001b[2K   \u001b[90m━━━━━━━━━━━━━━━━━━━━━━━━━━━━━━━━━━━━━━━━\u001b[0m \u001b[32m72.0/72.0 kB\u001b[0m \u001b[31m4.5 MB/s\u001b[0m eta \u001b[36m0:00:00\u001b[0m\n",
            "\u001b[?25hInstalling collected packages: uvicorn, starlette, fastapi\n",
            "Successfully installed fastapi-0.115.12 starlette-0.46.1 uvicorn-0.34.0\n"
          ]
        }
      ]
    },
    {
      "cell_type": "code",
      "source": [
        "import os\n",
        "\n",
        "print(os.path.exists(\"model.pkl\"))  # Should return True if the model file exists\n"
      ],
      "metadata": {
        "id": "S91Kt6-H4fi_",
        "outputId": "9afdad8a-b170-49c3-f8bd-833c02ab5d6d",
        "colab": {
          "base_uri": "https://localhost:8080/"
        }
      },
      "execution_count": 23,
      "outputs": [
        {
          "output_type": "stream",
          "name": "stdout",
          "text": [
            "False\n"
          ]
        }
      ]
    },
    {
      "cell_type": "markdown",
      "source": [
        "** Ensure Model Is Trained & Saved**"
      ],
      "metadata": {
        "id": "vFAMmHJ25iWh"
      }
    },
    {
      "cell_type": "code",
      "source": [
        "import joblib\n",
        "from sklearn.ensemble import RandomForestClassifier  # Example model\n",
        "\n",
        "# Train a sample model (Replace with your actual model training)\n",
        "model = RandomForestClassifier()\n",
        "# model.fit(X_train, y_train)  # Uncomment this if training is required\n",
        "\n",
        "# Save the trained model\n",
        "joblib.dump(model, \"model.pkl\")\n",
        "print(\"✅ Model saved successfully!\")\n"
      ],
      "metadata": {
        "id": "a-mL9JGq5ggt",
        "outputId": "c0723866-e4af-4776-d03e-9486ba532c03",
        "colab": {
          "base_uri": "https://localhost:8080/"
        }
      },
      "execution_count": 25,
      "outputs": [
        {
          "output_type": "stream",
          "name": "stdout",
          "text": [
            "✅ Model saved successfully!\n"
          ]
        }
      ]
    },
    {
      "cell_type": "markdown",
      "source": [
        "**Load the Model in FastAPI**"
      ],
      "metadata": {
        "id": "3riAzIXx6K-B"
      }
    },
    {
      "cell_type": "code",
      "source": [
        "from fastapi import FastAPI\n",
        "import joblib\n",
        "\n",
        "# Initialize FastAPI app\n",
        "app = FastAPI()\n",
        "\n",
        "# Load the trained model\n",
        "try:\n",
        "    model = joblib.load(\"model.pkl\")\n",
        "    print(\"✅ Model loaded successfully!\")\n",
        "except FileNotFoundError:\n",
        "    print(\"❌ Error: 'model.pkl' file not found. Train and save the model first.\")\n",
        "except Exception as e:\n",
        "    print(f\"❌ Error loading model: {e}\")\n",
        "\n",
        "# Define a prediction route\n",
        "@app.post(\"/predict/\")\n",
        "async def predict(features: dict):\n",
        "    try:\n",
        "        # Convert input features to a list (modify as per your model's requirement)\n",
        "        input_data = [features[key] for key in features]\n",
        "        prediction = model.predict([input_data])\n",
        "        return {\"prediction\": prediction.tolist()}\n",
        "    except Exception as e:\n",
        "        return {\"error\": str(e)}\n"
      ],
      "metadata": {
        "id": "nHqtqpXx5qzS",
        "outputId": "de0fdfbf-29bc-4278-d1b3-df78ee85d317",
        "colab": {
          "base_uri": "https://localhost:8080/"
        }
      },
      "execution_count": 26,
      "outputs": [
        {
          "output_type": "stream",
          "name": "stdout",
          "text": [
            "✅ Model loaded successfully!\n"
          ]
        }
      ]
    },
    {
      "cell_type": "markdown",
      "source": [
        "**Debugging (If Issue Persists)**"
      ],
      "metadata": {
        "id": "rPGh3ZNH6NJ_"
      }
    },
    {
      "cell_type": "code",
      "source": [
        "import os\n",
        "print(os.path.exists(\"model.pkl\"))  # Should return True\n"
      ],
      "metadata": {
        "id": "ZWW1RVML5u-u",
        "outputId": "5b7b59e6-4538-40b8-c873-9b75676bed00",
        "colab": {
          "base_uri": "https://localhost:8080/"
        }
      },
      "execution_count": 28,
      "outputs": [
        {
          "output_type": "stream",
          "name": "stdout",
          "text": [
            "True\n"
          ]
        }
      ]
    },
    {
      "cell_type": "markdown",
      "source": [
        "**Checking  Model Type**"
      ],
      "metadata": {
        "id": "2z7AZIie6RZO"
      }
    },
    {
      "cell_type": "code",
      "source": [
        "model = joblib.load(\"model.pkl\")\n",
        "print(type(model))  # Should print sklearn model type\n"
      ],
      "metadata": {
        "id": "bFfMwLKm57Bp",
        "outputId": "761b7dbe-44e8-4a35-c895-330da4aab77f",
        "colab": {
          "base_uri": "https://localhost:8080/"
        }
      },
      "execution_count": 29,
      "outputs": [
        {
          "output_type": "stream",
          "name": "stdout",
          "text": [
            "<class 'sklearn.ensemble._forest.RandomForestClassifier'>\n"
          ]
        }
      ]
    },
    {
      "cell_type": "markdown",
      "source": [
        "# Final FastAPI Code for Prediction"
      ],
      "metadata": {
        "id": "V1aO2Hsa6dGA"
      }
    },
    {
      "cell_type": "code",
      "source": [
        "from fastapi import FastAPI\n",
        "import joblib\n",
        "from pydantic import BaseModel\n",
        "import numpy as np\n",
        "\n",
        "# Initialize FastAPI app\n",
        "app = FastAPI()\n",
        "\n",
        "# Load the trained model\n",
        "try:\n",
        "    model = joblib.load(\"model.pkl\")\n",
        "    print(\"✅ Model loaded successfully!\")\n",
        "except FileNotFoundError:\n",
        "    print(\"❌ Error: 'model.pkl' file not found. Train and save the model first.\")\n",
        "except Exception as e:\n",
        "    print(f\"❌ Error loading model: {e}\")\n",
        "\n",
        "# Define the input data schema\n",
        "class InputData(BaseModel):\n",
        "    features: list  # Expecting input as a list of numerical values\n",
        "\n",
        "# Define a prediction route\n",
        "@app.post(\"/predict/\")\n",
        "async def predict(data: InputData):\n",
        "    try:\n",
        "        # Convert input to NumPy array\n",
        "        input_data = np.array(data.features).reshape(1, -1)\n",
        "        prediction = model.predict(input_data)\n",
        "        return {\"prediction\": prediction.tolist()}\n",
        "    except Exception as e:\n",
        "        return {\"error\": str(e)}\n",
        "\n"
      ],
      "metadata": {
        "id": "CtWU8-ng6eja",
        "outputId": "6f597bae-dd12-40db-cb4c-069c14828061",
        "colab": {
          "base_uri": "https://localhost:8080/"
        }
      },
      "execution_count": 30,
      "outputs": [
        {
          "output_type": "stream",
          "name": "stdout",
          "text": [
            "✅ Model loaded successfully!\n"
          ]
        }
      ]
    }
  ]
}