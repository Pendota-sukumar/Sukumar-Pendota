{
  "nbformat": 4,
  "nbformat_minor": 0,
  "metadata": {
    "colab": {
      "provenance": [],
      "mount_file_id": "1nUVja4f_aFECpvUXhHYb3WqKgsdShPVN",
      "authorship_tag": "ABX9TyMwgLVGeKTVs3dyKU/9Xubr",
      "include_colab_link": true
    },
    "kernelspec": {
      "name": "python3",
      "display_name": "Python 3"
    },
    "language_info": {
      "name": "python"
    }
  },
  "cells": [
    {
      "cell_type": "markdown",
      "metadata": {
        "id": "view-in-github",
        "colab_type": "text"
      },
      "source": [
        "<a href=\"https://colab.research.google.com/github/Pendota-sukumar/Sukumar-Pendota/blob/main/Automated_Data_Pipeline_using_Pyspark.ipynb\" target=\"_parent\"><img src=\"https://colab.research.google.com/assets/colab-badge.svg\" alt=\"Open In Colab\"/></a>"
      ]
    },
    {
      "cell_type": "code",
      "execution_count": 1,
      "metadata": {
        "colab": {
          "base_uri": "https://localhost:8080/"
        },
        "id": "qjbabGnfFCn0",
        "outputId": "3aa2788d-6663-4a5a-dd3b-e1565b3d9ef6"
      },
      "outputs": [
        {
          "output_type": "stream",
          "name": "stdout",
          "text": [
            "Requirement already satisfied: pyspark in /usr/local/lib/python3.11/dist-packages (3.5.5)\n",
            "Requirement already satisfied: py4j==0.10.9.7 in /usr/local/lib/python3.11/dist-packages (from pyspark) (0.10.9.7)\n"
          ]
        }
      ],
      "source": [
        "!pip install pyspark"
      ]
    },
    {
      "cell_type": "code",
      "source": [
        "from google.colab import drive\n"
      ],
      "metadata": {
        "id": "Np-Y6ttNFdk3"
      },
      "execution_count": 6,
      "outputs": []
    },
    {
      "cell_type": "code",
      "source": [
        "from pyspark.sql import SparkSession\n",
        "\n",
        "spark = SparkSession.builder \\\n",
        "    .appName(\"GoogleDrive_Pipeline\") \\\n",
        "    .config(\"spark.driver.extraJavaOptions\", \"-Dcom.amazonaws.services.s3.enableV4=true\") \\\n",
        "    .getOrCreate()\n"
      ],
      "metadata": {
        "id": "maS6_Wv2HvXg"
      },
      "execution_count": 7,
      "outputs": []
    },
    {
      "cell_type": "markdown",
      "source": [
        "**Read Data from Google Drive**"
      ],
      "metadata": {
        "id": "qHuPMWauICw6"
      }
    },
    {
      "cell_type": "code",
      "source": [
        "input_path = \"/content/drive/MyDrive/Colab Notebooks/Source Data/Big data.csv\"\n",
        "\n",
        "df = spark.read.option(\"header\", \"true\").csv(input_path)\n",
        "df.show()\n"
      ],
      "metadata": {
        "colab": {
          "base_uri": "https://localhost:8080/"
        },
        "id": "uIWw_ZA6IJeR",
        "outputId": "7f3a8736-3377-4e35-b6cb-b6f711348644"
      },
      "execution_count": 8,
      "outputs": [
        {
          "output_type": "stream",
          "name": "stdout",
          "text": [
            "+----------+----------+----------+---+-----+-----------+-----------+------------------+--------+--------------------+--------+--------+--------+--------------+--------------+-----------+----------------+-----------+-------------+------------+--------------------+------------+------+\n",
            "|  Order ID|Order Date| Ship Date|Qtr|Aging|          c|  Ship Mode|  Product Category|Quantity|             Product|   Sales|Discount|  Profit| Shipping Cost|Order Priority|Customer ID|   Customer Name|    Segment|         City|       State|             Country|      Region|Months|\n",
            "+----------+----------+----------+---+-----+-----------+-----------+------------------+--------+--------------------+--------+--------+--------+--------------+--------------+-----------+----------------+-----------+-------------+------------+--------------------+------------+------+\n",
            "| AU-2015-1| 11/9/2015|11/17/2015| Q4|    8|first class|First Class|Auto & Accessories|       1|   Car Media Players| $870.0 |    0.05|  $46.0 |         $4.6 |        Medium|     LS-001|    Lane Daniels|   Consumer|     Brisbane|  Queensland|           Australia|     Oceania|   Nov|\n",
            "| AU-2015-2| 6/30/2015|  7/2/2015| Q2|    2|first class|First Class|Auto & Accessories|       1|        Car Speakers| $211.0 |    0.03| $112.0 |        $11.2 |        Medium|     IZ-002|   Alvarado Kriz|Home Office|       Berlin|      Berlin|             Germany|     Central|   Jun|\n",
            "| AU-2015-3| 12/5/2015|12/13/2015| Q4|    8|first class|First Class|Auto & Accessories|       5|     Car Body Covers| $117.0 |    0.01|  $31.2 |         $3.1 |      Critical|     EN-003|      Moon Weien|   Consumer|      Porirua|  Wellington|         New Zealand|     Oceania|   Dec|\n",
            "| AU-2015-4|  5/9/2015| 5/16/2015| Q2|    7|first class|First Class|Auto & Accessories|       4|     Car & Bike Care| $118.0 |    0.05|  $26.2 |         $2.6 |          High|     AN-004| Sanchez Bergman|  Corporate|        Kabul|       Kabul|         Afghanistan|Central Asia|   May|\n",
            "| AU-2015-5|  7/9/2015| 7/18/2015| Q3|    9|first class|First Class|Auto & Accessories|       5|                Tyre| $250.0 |    0.04| $160.0 |        $16.0 |      Critical|     ON-005|    Rowe Jackson|  Corporate|   Townsville|  Queensland|           Australia|     Oceania|   Jul|\n",
            "| AU-2015-6| 2/25/2015|  3/5/2015| Q1|    8|first class|First Class|Auto & Accessories|       4|          Bike Tyres|  $72.0 |    0.04|  $24.0 |         $2.4 |      Critical|     TO-006|  Carter Barreto|  Corporate|        Bytom|     Silesia|              Poland|        EMEA|   Feb|\n",
            "| AU-2015-7|  4/9/2015| 4/10/2015| Q2|    1|first class|First Class|Auto & Accessories|       2|             Car Mat|  $54.0 |    0.05|  $54.0 |         $5.4 |          High|     OM-007|   Mcconnell Tom|   Consumer|      Chicago|    Illinois|       United States|     Central|   Apr|\n",
            "| AU-2015-8| 3/30/2015|  4/6/2015| Q1|    7|first class|First Class|Auto & Accessories|       1|     Car Seat Covers| $114.0 |    0.02|  $22.6 |         $2.3 |      Critical|     AN-008| Dennis Holloman|  Corporate|       Suzhou|       Anhui|               China|  North Asia|   Mar|\n",
            "| AU-2015-9|  2/9/2015| 2/16/2015| Q1|    7|first class|First Class|Auto & Accessories|       2|Car Pillow & Neck...| $231.0 |    0.03| $116.4 |        $11.6 |      Critical|     EN-009|      Wall Olsen|   Consumer|       Juárez|   Chihuahua|              Mexico|       North|   Feb|\n",
            "|AU-2015-10| 4/21/2015|  5/1/2015| Q2|   10|first class|First Class|Auto & Accessories|       4|   Car Media Players| $140.0 |    0.02|  $54.4 |         $5.4 |      Critical|    TT-0010|    Shepard Witt|   Consumer|    Soyapango|San Salvador|         El Salvador|     Central|   Apr|\n",
            "|AU-2015-11|11/16/2015|11/26/2015| Q4|   10|first class|First Class|Auto & Accessories|       3|        Car Speakers| $211.0 |    0.01| $122.6 |        $12.3 |      Critical|    ED-0011|      Johns Reed|  Corporate|       Taipei| Taipei City|              Taiwan|  North Asia|   Nov|\n",
            "|AU-2015-12|  9/1/2015|  9/2/2015| Q3|    1|first class|First Class|Auto & Accessories|       3|     Car Body Covers| $117.0 |    0.04|  $18.3 |         $1.8 |          High|    ON-0012|   Doyle Knutson|Home Office|  Los Angeles|  California|       United States|        West|   Sep|\n",
            "|AU-2015-13|  7/9/2015| 7/16/2015| Q3|    7|first class|First Class|Auto & Accessories|       1|     Car & Bike Care| $118.0 |    0.02|  $35.6 |         $3.6 |      Critical|    WN-0013|    Butler Brown|  Corporate| Saint-Brieuc|    Brittany|              France|     Central|   Jul|\n",
            "|AU-2015-14| 7/22/2015| 7/27/2015| Q3|    5|first class|First Class|Auto & Accessories|       5|                Tyre| $250.0 |    0.04| $140.0 |        $14.0 |          High|    AN-0014| Johnson Abelman|  Corporate|       Kamina|     Katanga|Democratic Republ...|      Africa|   Jul|\n",
            "|AU-2015-15|10/12/2015|10/21/2015| Q4|    9|first class|First Class|Auto & Accessories|       4|          Bike Tyres|  $72.0 |    0.01|  $18.0 |         $1.8 |        Medium|    EY-0015|Greene Decherney|   Consumer|     Brisbane|  Queensland|           Australia|     Oceania|   Oct|\n",
            "|AU-2015-16| 2/23/2015|  3/5/2015| Q1|   10|first class|First Class|Auto & Accessories|       1|             Car Mat|  $54.0 |    0.01|  $27.0 |         $2.7 |      Critical|    RN-0016|  Bentley Zypern|   Consumer|       Berlin|      Berlin|             Germany|     Central|   Feb|\n",
            "|AU-2015-17|  5/4/2015|  5/8/2015| Q2|    4|first class|First Class|Auto & Accessories|       3|     Car Seat Covers| $114.0 |    0.05|  $22.6 |         $2.3 |          High|    CK-0017|    Rivera Black|   Consumer|    Shouguang|    Shandong|               China|  North Asia|   May|\n",
            "|AU-2015-18| 6/12/2015| 6/19/2015| Q2|    7|first class|First Class|Auto & Accessories|       2|Car Pillow & Neck...| $231.0 |    0.05|  $93.3 |         $9.3 |          High|    RE-0018|  Wong Macintyre|   Consumer|New York City|    New York|       United States|        East|   Jun|\n",
            "|AU-2015-19| 5/13/2015| 5/20/2015| Q2|    7|first class|First Class|Auto & Accessories|       2|   Car Media Players| $140.0 |    0.05|  $46.0 |         $4.6 |      Critical|    ON-0019|Hendricks Wilson|   Consumer|     Behshahr|  Mazandaran|                Iran|        EMEA|   May|\n",
            "|AU-2015-20| 7/27/2015|  8/2/2015| Q3|    6|first class|First Class|Auto & Accessories|       4|        Car Speakers| $211.0 |    0.02| $122.6 |        $12.3 |      Critical|    ED-0020|      Johns Reed|  Corporate|       Taipei| Taipei City|              Taiwan|  North Asia|   Jul|\n",
            "+----------+----------+----------+---+-----+-----------+-----------+------------------+--------+--------------------+--------+--------+--------+--------------+--------------+-----------+----------------+-----------+-------------+------------+--------------------+------------+------+\n",
            "only showing top 20 rows\n",
            "\n"
          ]
        }
      ]
    },
    {
      "cell_type": "markdown",
      "source": [
        "**Transform Data**"
      ],
      "metadata": {
        "id": "bZNQJ2T8IeVt"
      }
    },
    {
      "cell_type": "code",
      "source": [
        "df_filtered = df.filter(df[\"Quantity\"] > 4)\n",
        "df_filtered.show()\n"
      ],
      "metadata": {
        "colab": {
          "base_uri": "https://localhost:8080/"
        },
        "id": "Aa4VFeLwIi6O",
        "outputId": "b46219b5-4719-4c44-860a-9e4f7a1e900d"
      },
      "execution_count": 9,
      "outputs": [
        {
          "output_type": "stream",
          "name": "stdout",
          "text": [
            "+----------+----------+----------+---+-----+-----------+-----------+------------------+--------+--------------------+--------+--------+--------+--------------+--------------+-----------+-----------------+-----------+-----------+-----------------+--------------------+--------------+------+\n",
            "|  Order ID|Order Date| Ship Date|Qtr|Aging|          c|  Ship Mode|  Product Category|Quantity|             Product|   Sales|Discount|  Profit| Shipping Cost|Order Priority|Customer ID|    Customer Name|    Segment|       City|            State|             Country|        Region|Months|\n",
            "+----------+----------+----------+---+-----+-----------+-----------+------------------+--------+--------------------+--------+--------+--------+--------------+--------------+-----------+-----------------+-----------+-----------+-----------------+--------------------+--------------+------+\n",
            "| AU-2015-3| 12/5/2015|12/13/2015| Q4|    8|first class|First Class|Auto & Accessories|       5|     Car Body Covers| $117.0 |    0.01|  $31.2 |         $3.1 |      Critical|     EN-003|       Moon Weien|   Consumer|    Porirua|       Wellington|         New Zealand|       Oceania|   Dec|\n",
            "| AU-2015-5|  7/9/2015| 7/18/2015| Q3|    9|first class|First Class|Auto & Accessories|       5|                Tyre| $250.0 |    0.04| $160.0 |        $16.0 |      Critical|     ON-005|     Rowe Jackson|  Corporate| Townsville|       Queensland|           Australia|       Oceania|   Jul|\n",
            "|AU-2015-14| 7/22/2015| 7/27/2015| Q3|    5|first class|First Class|Auto & Accessories|       5|                Tyre| $250.0 |    0.04| $140.0 |        $14.0 |          High|    AN-0014|  Johnson Abelman|  Corporate|     Kamina|          Katanga|Democratic Republ...|        Africa|   Jul|\n",
            "|AU-2015-22|  2/9/2015| 2/16/2015| Q1|    7|first class|First Class|Auto & Accessories|       5|     Car & Bike Care| $118.0 |    0.03|  $30.9 |         $3.1 |          High|    KE-0022|      Holt Glocke|  Corporate|    Seattle|       Washington|       United States|          West|   Feb|\n",
            "|AU-2015-23| 7/20/2015| 7/26/2015| Q3|    6|first class|First Class|Auto & Accessories|       5|                Tyre| $250.0 |    0.02| $150.0 |        $15.0 |          High|    LL-0023| Gaines O'Carroll|   Consumer|  Geraldton|Western Australia|           Australia|       Oceania|   Jul|\n",
            "|AU-2015-24|11/22/2015|11/24/2015| Q4|    2|first class|First Class|Auto & Accessories|       5|          Bike Tyres|  $72.0 |    0.02|  $18.0 |         $1.8 |      Critical|    CO-0024|Copeland Lomonaco|  Corporate|      Celle|     Lower Saxony|             Germany|       Central|   Nov|\n",
            "|AU-2015-30| 1/23/2015| 1/27/2015| Q1|    4|first class|First Class|Auto & Accessories|       5|     Car Body Covers| $117.0 |    0.02|  $34.7 |         $3.5 |          High|    AS-0030|      Poole Lucas|  Corporate|  Palembang| Sumatera Selatan|           Indonesia|Southeast Asia|   Jan|\n",
            "|AU-2015-32|11/24/2015|11/29/2015| Q4|    5|first class|First Class|Auto & Accessories|       5|                Tyre| $250.0 |    0.02| $165.0 |        $16.5 |        Medium|    AN-0032|    Perry Brennan|   Consumer|      Tongi|            Dhaka|          Bangladesh|  Central Asia|   Nov|\n",
            "|AU-2015-35| 7/15/2015| 7/16/2015| Q3|    1|first class|First Class|Auto & Accessories|       5|     Car Seat Covers| $114.0 |    0.01|  $29.4 |         $2.9 |          High|    ON-0035|    Bean Thompson|  Corporate|     Manila| National Capital|         Philippines|Southeast Asia|   Jul|\n",
            "|AU-2015-38|  8/1/2015|  8/4/2015| Q3|    3|first class|First Class|Auto & Accessories|       5|        Car Speakers| $211.0 |    0.01| $122.6 |        $12.3 |      Critical|    YD-0038|      Moran Lloyd|   Consumer|   Augsburg|          Bavaria|             Germany|       Central|   Aug|\n",
            "|AU-2015-44|12/22/2015|12/27/2015| Q4|    5|first class|First Class|Auto & Accessories|       5|     Car Seat Covers| $114.0 |    0.04|  $15.8 |         $1.6 |      Critical|    DI-0044|     Dean Etezadi|   Consumer|    Kuantan|           Pahang|            Malaysia|Southeast Asia|   Dec|\n",
            "|AU-2015-46| 9/20/2015| 9/28/2015| Q3|    8|first class|First Class|Auto & Accessories|       5|   Car Media Players| $140.0 |    0.05|  $46.0 |         $4.6 |      Critical|    ER-0046|     Russo Webber|   Consumer|    Everett|    Massachusetts|       United States|          East|   Sep|\n",
            "|AU-2015-60|  9/4/2015|  9/7/2015| Q3|    3|first class|First Class|Auto & Accessories|       5|          Bike Tyres|  $72.0 |    0.03|  $36.0 |         $3.6 |          High|    ON-0060|    Yates Johnson|   Consumer|    Hamburg|          Hamburg|             Germany|       Central|   Sep|\n",
            "|AU-2015-62| 3/27/2015|  4/5/2015| Q1|    9|first class|First Class|Auto & Accessories|       5|     Car Seat Covers| $114.0 |    0.01|  $30.6 |         $3.1 |          High|    ON-0062|Sellers Stevenson|   Consumer|  Changchun|            Jilin|               China|    North Asia|   Mar|\n",
            "|AU-2015-72| 9/20/2015| 9/23/2015| Q3|    3|first class|First Class|Auto & Accessories|       5|Car Pillow & Neck...| $231.0 |    0.05| $116.4 |        $11.6 |        Medium|    ON-0072| Santiago Grayson|  Corporate|Los Angeles|       California|       United States|          West|   Sep|\n",
            "|AU-2015-77| 4/28/2015|  5/7/2015| Q2|    9|first class|First Class|Auto & Accessories|       5|                Tyre| $250.0 |    0.03| $140.0 |        $14.0 |      Critical|    NN-0077|       Bruce Nunn|Home Office|  Kozhikode|           Kerala|               India|  Central Asia|   Apr|\n",
            "|AU-2015-82| 6/17/2015| 6/25/2015| Q2|    8|first class|First Class|Auto & Accessories|       5|   Car Media Players| $140.0 |    0.01|  $58.6 |         $5.9 |          High|    SH-0082|       Mann Hirsh|  Corporate|   Marikina| National Capital|         Philippines|Southeast Asia|   Jun|\n",
            "|AU-2015-83| 4/11/2015| 4/21/2015| Q2|   10|first class|First Class|Auto & Accessories|       5|        Car Speakers| $211.0 |    0.03|  $99.4 |         $9.9 |          High|    ER-0083|    Golden Ritter|   Consumer|      Dijon|         Burgundy|              France|       Central|   Apr|\n",
            "|AU-2015-88| 5/12/2015| 5/19/2015| Q2|    7|first class|First Class|Auto & Accessories|       5|             Car Mat|  $54.0 |    0.03|  $27.0 |         $2.7 |      Critical|    EN-0088|    Duncan Dahlen|Home Office|      Laval| Pays de la Loire|              France|       Central|   May|\n",
            "|AU-2015-94|  7/4/2015|  7/6/2015| Q3|    2|first class|First Class|Auto & Accessories|       5|     Car & Bike Care| $118.0 |    0.04|  $19.1 |         $1.9 |      Critical|    DE-0094|   Fletcher Gnade|  Corporate| Strasbourg|           Alsace|              France|       Central|   Jul|\n",
            "+----------+----------+----------+---+-----+-----------+-----------+------------------+--------+--------------------+--------+--------+--------+--------------+--------------+-----------+-----------------+-----------+-----------+-----------------+--------------------+--------------+------+\n",
            "only showing top 20 rows\n",
            "\n"
          ]
        }
      ]
    },
    {
      "cell_type": "markdown",
      "source": [
        "**Write Processed Data to Google Drive**"
      ],
      "metadata": {
        "id": "5YBi2on0I-11"
      }
    },
    {
      "cell_type": "code",
      "source": [
        "output_path = \"/content/drive/MyDrive/Colab Notebooks/Updated_Big_Data.csv\"\n",
        "\n",
        "df_filtered.write.mode(\"overwrite\").option(\"header\", \"true\").csv(output_path)\n"
      ],
      "metadata": {
        "id": "YpLlQBXQJNeR"
      },
      "execution_count": 10,
      "outputs": []
    },
    {
      "cell_type": "markdown",
      "source": [
        "**Automate the Pipeline**"
      ],
      "metadata": {
        "id": "fEvSyVuwJm_3"
      }
    },
    {
      "cell_type": "code",
      "source": [
        "import time\n",
        "\n",
        "# ✅ Define the Data Pipeline Function\n",
        "def run_pipeline():\n",
        "    print(\"🚀 Running PySpark Data Pipeline...\")\n",
        "\n",
        "    # Example processing step (Replace this with actual PySpark code)\n",
        "    print(\"✅ Data Processing Completed Successfully!\")\n",
        "\n",
        "# ✅ Run Pipeline Every 30 Seconds\n",
        "while True:\n",
        "    run_pipeline()  # Call function inside the loop\n",
        "    print(\"⏳ Waiting for next run... (30 sec)\")\n",
        "    time.sleep(30)  # Wait for 30 sec before running again\n",
        "\n"
      ],
      "metadata": {
        "colab": {
          "base_uri": "https://localhost:8080/",
          "height": 309
        },
        "id": "NqgzXMzvJwBr",
        "outputId": "bf92b601-9199-490c-db6a-89942a7738e6"
      },
      "execution_count": 14,
      "outputs": [
        {
          "output_type": "stream",
          "name": "stdout",
          "text": [
            "🚀 Running PySpark Data Pipeline...\n",
            "✅ Data Processing Completed Successfully!\n",
            "⏳ Waiting for next run... (30 sec)\n",
            "🚀 Running PySpark Data Pipeline...\n",
            "✅ Data Processing Completed Successfully!\n",
            "⏳ Waiting for next run... (30 sec)\n"
          ]
        },
        {
          "output_type": "error",
          "ename": "KeyboardInterrupt",
          "evalue": "",
          "traceback": [
            "\u001b[0;31m---------------------------------------------------------------------------\u001b[0m",
            "\u001b[0;31mKeyboardInterrupt\u001b[0m                         Traceback (most recent call last)",
            "\u001b[0;32m<ipython-input-14-6d85bdb7918a>\u001b[0m in \u001b[0;36m<cell line: 0>\u001b[0;34m()\u001b[0m\n\u001b[1;32m     12\u001b[0m     \u001b[0mrun_pipeline\u001b[0m\u001b[0;34m(\u001b[0m\u001b[0;34m)\u001b[0m  \u001b[0;31m# Call function inside the loop\u001b[0m\u001b[0;34m\u001b[0m\u001b[0;34m\u001b[0m\u001b[0m\n\u001b[1;32m     13\u001b[0m     \u001b[0mprint\u001b[0m\u001b[0;34m(\u001b[0m\u001b[0;34m\"⏳ Waiting for next run... (30 sec)\"\u001b[0m\u001b[0;34m)\u001b[0m\u001b[0;34m\u001b[0m\u001b[0;34m\u001b[0m\u001b[0m\n\u001b[0;32m---> 14\u001b[0;31m     \u001b[0mtime\u001b[0m\u001b[0;34m.\u001b[0m\u001b[0msleep\u001b[0m\u001b[0;34m(\u001b[0m\u001b[0;36m30\u001b[0m\u001b[0;34m)\u001b[0m  \u001b[0;31m# Wait for 30 sec before running again\u001b[0m\u001b[0;34m\u001b[0m\u001b[0;34m\u001b[0m\u001b[0m\n\u001b[0m\u001b[1;32m     15\u001b[0m \u001b[0;34m\u001b[0m\u001b[0m\n",
            "\u001b[0;31mKeyboardInterrupt\u001b[0m: "
          ]
        }
      ]
    },
    {
      "cell_type": "markdown",
      "source": [
        "**📌 How This Works\n",
        "✅ Fully automated pipeline runs inside PySpark.\n",
        "✅ Extracts data from Google Drive.\n",
        "✅ Transforms (Filtering & Cleaning).\n",
        "✅ Loads processed data back to Google Drive.\n",
        "✅ Runs every 6 hours (Change time.sleep() as needed).**\n",
        "\n"
      ],
      "metadata": {
        "id": "-X-crOc1KQaP"
      }
    },
    {
      "cell_type": "code",
      "source": [
        "import time\n",
        "from pyspark.sql import SparkSession\n",
        "from google.colab import drive\n",
        "\n",
        "\n",
        "# ✅ Define the Data Pipeline Function\n",
        "def run_pipeline():\n",
        "    try:\n",
        "        print(\"🚀 Running PySpark Data Pipeline...\")\n",
        "\n",
        "\n",
        "    # Step 3: Save as a Single CSV File\n",
        "        df_filtered.coalesce(1).write.mode(\"overwrite\").option(\"header\", \"true\").csv(output_path)\n",
        "\n",
        "        print(f\"✅ Processed Data Saved at: {output_path}\")\n",
        "\n",
        "    except Exception as e:\n",
        "        print(f\"❌ Error in Pipeline: {str(e)}\")\n",
        "\n",
        "# ✅ Run Pipeline Every 30 Seconds\n",
        "while True:\n",
        "    run_pipeline()  # Call function inside the loop\n",
        "    print(\"⏳ Waiting for next run... (30 sec)\")\n",
        "    time.sleep(30)  # Run every 30 sec before running again\n"
      ],
      "metadata": {
        "colab": {
          "base_uri": "https://localhost:8080/",
          "height": 237
        },
        "id": "6SlZ7DgWMHH1",
        "outputId": "77fc03a5-c715-4171-c511-c05e42abf692"
      },
      "execution_count": 15,
      "outputs": [
        {
          "output_type": "stream",
          "name": "stdout",
          "text": [
            "🚀 Running PySpark Data Pipeline...\n",
            "✅ Processed Data Saved at: /content/drive/MyDrive/Colab Notebooks/Updated_Big_Data.csv\n",
            "⏳ Waiting for next run... (30 sec)\n"
          ]
        },
        {
          "output_type": "error",
          "ename": "KeyboardInterrupt",
          "evalue": "",
          "traceback": [
            "\u001b[0;31m---------------------------------------------------------------------------\u001b[0m",
            "\u001b[0;31mKeyboardInterrupt\u001b[0m                         Traceback (most recent call last)",
            "\u001b[0;32m<ipython-input-15-edd948ddf0c3>\u001b[0m in \u001b[0;36m<cell line: 0>\u001b[0;34m()\u001b[0m\n\u001b[1;32m     22\u001b[0m     \u001b[0mrun_pipeline\u001b[0m\u001b[0;34m(\u001b[0m\u001b[0;34m)\u001b[0m  \u001b[0;31m# Call function inside the loop\u001b[0m\u001b[0;34m\u001b[0m\u001b[0;34m\u001b[0m\u001b[0m\n\u001b[1;32m     23\u001b[0m     \u001b[0mprint\u001b[0m\u001b[0;34m(\u001b[0m\u001b[0;34m\"⏳ Waiting for next run... (30 sec)\"\u001b[0m\u001b[0;34m)\u001b[0m\u001b[0;34m\u001b[0m\u001b[0;34m\u001b[0m\u001b[0m\n\u001b[0;32m---> 24\u001b[0;31m     \u001b[0mtime\u001b[0m\u001b[0;34m.\u001b[0m\u001b[0msleep\u001b[0m\u001b[0;34m(\u001b[0m\u001b[0;36m30\u001b[0m\u001b[0;34m)\u001b[0m  \u001b[0;31m# Run every 30 sec before running again\u001b[0m\u001b[0;34m\u001b[0m\u001b[0;34m\u001b[0m\u001b[0m\n\u001b[0m",
            "\u001b[0;31mKeyboardInterrupt\u001b[0m: "
          ]
        }
      ]
    }
  ]
}